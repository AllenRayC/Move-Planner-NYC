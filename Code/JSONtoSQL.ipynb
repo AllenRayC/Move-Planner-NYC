{
 "cells": [
  {
   "cell_type": "code",
   "execution_count": 65,
   "metadata": {},
   "outputs": [],
   "source": [
    "# Dependencies\n",
    "import requests\n",
    "import pandas as pd\n",
    "import numpy as np\n",
    "import pymysql\n",
    "pymysql.install_as_MySQLdb()\n",
    "from sqlalchemy import create_engine\n",
    "from sqlalchemy.orm import Session\n",
    "\n",
    "url = \"https://data.cityofnewyork.us/resource/h7rb-945c.json\""
   ]
  },
  {
   "cell_type": "code",
   "execution_count": 66,
   "metadata": {},
   "outputs": [
    {
     "data": {
      "text/plain": [
       "{'academicopportunities1': 'AP expansion offering advance placement courses to all students; AP Literature and Composition, Language, Biology, Calculus, US History, Government, Economics',\n",
       " 'academicopportunities2': 'Extended Day & Saturday Accreditation & Tutoring, Regents & SAT Preparation, Summer Enrichment, Leadership Class & Service Learning Projects',\n",
       " 'academicopportunities3': 'College Now, Brooklyn College, and Medgar Evers College partnerships',\n",
       " 'academicopportunities4': 'Service Learning courses leading to Service Learning diploma endorsement',\n",
       " 'academicopportunities5': 'WIN Learning College and Career Readiness and Digital Graphing and Coding Courses',\n",
       " 'addtl_info1': 'Dress Code; Extended Day Program; Extended Day Program (Credit Recovery); Extended Day Program (Tutoring); Health Center; Internships; Online Grading System; Saturday Programs; Student Parent Orientation; Summer Bridge Program; Summer Internships; Summer Orientation; Uniform',\n",
       " 'admissionspriority11': 'Priority to Brooklyn students or residents',\n",
       " 'admissionspriority21': 'Then to New York City residents',\n",
       " 'advancedplacement_courses': 'AP English Literature and Composition',\n",
       " 'attendance_rate': '0.85',\n",
       " 'bbl': '3051030010',\n",
       " 'bin': '3336215',\n",
       " 'boro': 'K',\n",
       " 'borough': 'BROOKLYN ',\n",
       " 'building_code': 'K465',\n",
       " 'bus': 'B103, B12, B16, B35, B41, B44, B44-SBS, B49, BM1, BM2, BM3, BM4',\n",
       " 'campus_name': 'Erasmus Hall Educational Campus',\n",
       " 'census_tract': '794',\n",
       " 'city': 'Brooklyn',\n",
       " 'code1': 'K30X',\n",
       " 'college_career_rate': '0.44',\n",
       " 'community_board': '14',\n",
       " 'council_district': '40',\n",
       " 'dbn': '17K539',\n",
       " 'ell_programs': 'English as a New Language',\n",
       " 'end_time': '2:20pm',\n",
       " 'extracurricular_activities': 'Art, Band, Brooklyn College Community Partnership, Chess, Chorus, Computer, Culture, Dance, Debate, Drama, Future Fridays Preparatory Program, History, New York Cares Partnership, New York Explorers Program, Peer Tutoring, School Leadership Team, Service Learning Projects, STEP, Student Government, Urban Ambassadors, Video & TV Production, Yearbook, Yoga',\n",
       " 'fax_number': '718-564-2552',\n",
       " 'finalgrades': '9 to 12',\n",
       " 'grade9geapplicants1': '245',\n",
       " 'grade9geapplicantsperseat1': '3',\n",
       " 'grade9gefilledflag1': 'N',\n",
       " 'grade9swdapplicants1': '67',\n",
       " 'grade9swdapplicantsperseat1': '4',\n",
       " 'grade9swdfilledflag1': 'N',\n",
       " 'grades2018': '9 to 12',\n",
       " 'graduation_rate': '0.76',\n",
       " 'interest1': 'Humanities & Interdisciplinary',\n",
       " 'language_classes': 'Spanish',\n",
       " 'latitude': '40.649602',\n",
       " 'location': '911 Flatbush Avenue, Brooklyn NY 11226(40.649602, -73.957173)',\n",
       " 'longitude': '-73.957173',\n",
       " 'method1': 'Ed. Opt.',\n",
       " 'neighborhood': 'Flatbush',\n",
       " 'nta': 'Erasmus                                                                    ',\n",
       " 'offer_rate1': '-97% of offers went to this group',\n",
       " 'overview_paragraph': 'The High School for Service & Learning at the Erasmus Campus is a small High School specializing in providing students with community service opportunities and individualized service learning projects. Our mission is to provide educational experiences that meet the needs of our diverse student population and prepare them for various college and career paths. We build on the potential of our students, both as individuals and as valued members of our society, through a focus on culture, community, and civic engagement. With the help of peers, parents, partners, and teachers, students are empowered to become lifelong learners and agents of change, ready to make decisions and lead productive lives in a fast-paced, global environment.',\n",
       " 'pct_stu_enough_variety': '0.77',\n",
       " 'pct_stu_safe': '0.7',\n",
       " 'phone_number': '718-564-2551',\n",
       " 'prgdesc1': 'Students are working towards service learning hours that will result in a service learning endorsed diploma. Students have choices in internships that anchor to career path interests.',\n",
       " 'primary_address_line_1': '911 Flatbush Avenue',\n",
       " 'program1': 'High School for Service & Learning',\n",
       " 'psal_sports_boys': 'Baseball, Basketball, Bowling, Cross Country, Football, Indoor Track, Outdoor Track, Soccer, Volleyball, Wrestling',\n",
       " 'psal_sports_coed': 'Double Dutch, Stunt',\n",
       " 'psal_sports_girls': 'Basketball, Flag Football, Indoor Track, Outdoor Track, Softball, Swimming, Table Tennis, Tennis, Volleyball',\n",
       " 'school_10th_seats': 'Y',\n",
       " 'school_accessibility_description': '1',\n",
       " 'school_email': 'jvaness@schools.nyc.gov',\n",
       " 'school_name': 'High School for Service & Learning at Erasmus',\n",
       " 'school_sports': 'Swimming, Cheerleading, Bowling, Handball Cheerleading, Handball, Basketball Club',\n",
       " 'seats101': 'Yes-10',\n",
       " 'seats9ge1': '89',\n",
       " 'seats9swd1': '19',\n",
       " 'shared_space': 'Yes',\n",
       " 'start_time': '8am',\n",
       " 'state_code': 'NY',\n",
       " 'subway': '2, 5, B, Q to Church Ave',\n",
       " 'total_students': '362',\n",
       " 'website': 'schools.nyc.gov/SchoolPortals/17/K539 or hsslnyc.org/',\n",
       " 'zip': '11226'}"
      ]
     },
     "execution_count": 66,
     "metadata": {},
     "output_type": "execute_result"
    }
   ],
   "source": [
    "# Retrieve json\n",
    "hs_json = requests.get(url).json()\n",
    "hs_json[218]"
   ]
  },
  {
   "cell_type": "code",
   "execution_count": 67,
   "metadata": {},
   "outputs": [
    {
     "data": {
      "text/plain": [
       "Index(['academicopportunities1', 'academicopportunities2',\n",
       "       'academicopportunities3', 'academicopportunities4',\n",
       "       'academicopportunities5', 'addtl_info1', 'admissionspriority11',\n",
       "       'admissionspriority110', 'admissionspriority12', 'admissionspriority13',\n",
       "       ...\n",
       "       'seats9swd9', 'shared_space', 'specialized', 'start_time', 'state_code',\n",
       "       'subway', 'total_students', 'transfer', 'website', 'zip'],\n",
       "      dtype='object', length=354)"
      ]
     },
     "execution_count": 67,
     "metadata": {},
     "output_type": "execute_result"
    }
   ],
   "source": [
    "hs_df = pd.DataFrame.from_dict(hs_json, orient='columns')\n",
    "hs_df.columns"
   ]
  },
  {
   "cell_type": "code",
   "execution_count": 68,
   "metadata": {},
   "outputs": [],
   "source": [
    "hs_df = hs_df[[\"advancedplacement_courses\", \"attendance_rate\", \"college_career_rate\", \"graduation_rate\", \"latitude\", \"location\",\n",
    "               \"longitude\", \"overview_paragraph\", \"school_email\", \"school_name\", \"total_students\", \"website\"]]\n",
    "hs_df[\"college_career_rate\"] = hs_df[\"college_career_rate\"].replace('N/A', np.nan, regex=True)\n",
    "hs_df[\"graduation_rate\"] = hs_df[\"graduation_rate\"].replace('N/A', np.nan, regex=True)"
   ]
  },
  {
   "cell_type": "code",
   "execution_count": 69,
   "metadata": {},
   "outputs": [],
   "source": [
    "# create database connection (need to enter mysql password)\n",
    "connection_string = \"root:raynor1128@localhost/move_nyc\"\n",
    "engine = create_engine(f'mysql://{connection_string}')\n",
    "session = Session(bind=engine)"
   ]
  },
  {
   "cell_type": "code",
   "execution_count": 70,
   "metadata": {},
   "outputs": [],
   "source": [
    "# load dataframes into sql database\n",
    "hs_df.to_sql(name='high_schools', con=engine, if_exists='append', index=False)"
   ]
  },
  {
   "cell_type": "code",
   "execution_count": 71,
   "metadata": {},
   "outputs": [
    {
     "data": {
      "text/plain": [
       "['high_schools']"
      ]
     },
     "execution_count": 71,
     "metadata": {},
     "output_type": "execute_result"
    }
   ],
   "source": [
    "# confirm tables\n",
    "engine.table_names()"
   ]
  },
  {
   "cell_type": "code",
   "execution_count": null,
   "metadata": {},
   "outputs": [],
   "source": []
  }
 ],
 "metadata": {
  "kernelspec": {
   "display_name": "Python 3",
   "language": "python",
   "name": "python3"
  },
  "language_info": {
   "codemirror_mode": {
    "name": "ipython",
    "version": 3
   },
   "file_extension": ".py",
   "mimetype": "text/x-python",
   "name": "python",
   "nbconvert_exporter": "python",
   "pygments_lexer": "ipython3",
   "version": "3.6.6"
  }
 },
 "nbformat": 4,
 "nbformat_minor": 2
}
